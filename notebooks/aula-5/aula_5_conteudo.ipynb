{
  "nbformat": 4,
  "nbformat_minor": 0,
  "metadata": {
    "colab": {
      "name": "aula_5_conteudo.ipynb",
      "provenance": [],
      "collapsed_sections": [
        "C8IG8Z2WlItb",
        "PqSB9Ff2aGEY",
        "ESVJjKfBaVEA",
        "hSrJyNc2ahKw",
        "EHGV9R2gamCz",
        "teZ3t3W1auDA",
        "42mtrTZOhCcn",
        "9sE3eS_ahQxN",
        "hrymnrUP8BTV",
        "ERBzXQxg8EKP",
        "7oTIXeMihxCM",
        "NIDJjyZ2_yOl",
        "Db4znu_U_9IW",
        "pU0ev4Nmh_yo",
        "VAPCYN8KAtg7",
        "_aO7p9fpAwdM",
        "G9hVW9gYj2oY",
        "gTdGbaagJehy",
        "o8DzwQx4L8si",
        "b0e9ZqUHkDxh",
        "Ke3sW3QYkK6z",
        "7tMvF9LYk1A4",
        "rC-Yua5cp7sF",
        "fNT2Cp87NJPL",
        "PiWEKaZpqcft",
        "v2SKWSiarMQ2",
        "uwWAfRAscaS0",
        "17cS6aAUnzC9",
        "1S779u6Zs0C6",
        "zKIxjkwh_2fM",
        "pid2RgfdIjXd",
        "qzvICgR7QTC-",
        "FnIpb2iIQcSX",
        "cg9KkO7tQgjC",
        "VmidAyQSdzXR",
        "Cp6_7BKUGsKD",
        "1ReIbUKXLZIB"
      ],
      "authorship_tag": "ABX9TyNdgbMYzU+l1duYgH4d8jt0",
      "include_colab_link": true
    },
    "kernelspec": {
      "name": "python3",
      "display_name": "Python 3"
    },
    "language_info": {
      "name": "python"
    }
  },
  "cells": [
    {
      "cell_type": "markdown",
      "metadata": {
        "id": "view-in-github",
        "colab_type": "text"
      },
      "source": [
        "<a href=\"https://colab.research.google.com/github/caiogomide/imersao-dados-2021/blob/main/notebooks/aula-5/aula_5_conteudo.ipynb\" target=\"_parent\"><img src=\"https://colab.research.google.com/assets/colab-badge.svg\" alt=\"Open In Colab\"/></a>"
      ]
    },
    {
      "cell_type": "markdown",
      "metadata": {
        "id": "zKIxjkwh_2fM"
      },
      "source": [
        "#**Aula 05 - Machine Learning, Sci-kit learning e desafios envolvidos**"
      ]
    },
    {
      "cell_type": "markdown",
      "metadata": {
        "id": "MAHWeFpck3JV"
      },
      "source": [
        "#### 5.1  Importação de Biblioteca e Base de Dados"
      ]
    },
    {
      "cell_type": "code",
      "metadata": {
        "id": "Ukc68R_3k_iZ"
      },
      "source": [
        "import pandas as pd\n",
        "import matplotlib.pyplot as plt\n",
        "import numpy as np\n",
        "import seaborn as sns\n",
        "import matplotlib.pyplot as plt"
      ],
      "execution_count": 23,
      "outputs": []
    },
    {
      "cell_type": "code",
      "metadata": {
        "id": "fDGyqSNZlHnw"
      },
      "source": [
        "# Configuração do seaborn\n",
        "sns.set()"
      ],
      "execution_count": 24,
      "outputs": []
    },
    {
      "cell_type": "code",
      "metadata": {
        "id": "vZjvIIxYlJvZ"
      },
      "source": [
        "url_dados = 'https://github.com/alura-cursos/imersaodados3/blob/main/dados/dados_experimentos.zip?raw=true'"
      ],
      "execution_count": 25,
      "outputs": []
    },
    {
      "cell_type": "code",
      "metadata": {
        "id": "D58ImkmHlKmZ"
      },
      "source": [
        "dados = pd.read_csv(url_dados, compression='zip')"
      ],
      "execution_count": 26,
      "outputs": []
    },
    {
      "cell_type": "code",
      "metadata": {
        "id": "wElRFFwclNDb"
      },
      "source": [
        "# Renomeação das colunas de expressões gênicas e viabilidade celular, retirando os hifens\n",
        "dados.columns = dados.columns.str.replace('-','')\n",
        "# Renomeação da coluna droga para composto\n",
        "dados.rename(columns={'droga':'composto'}, inplace=True)"
      ],
      "execution_count": 27,
      "outputs": []
    },
    {
      "cell_type": "code",
      "metadata": {
        "id": "eiCZCd0ElQJ9"
      },
      "source": [
        "url_resultados = 'https://raw.githubusercontent.com/alura-cursos/imersaodados3/main/dados/dados_resultados.csv'"
      ],
      "execution_count": 28,
      "outputs": []
    },
    {
      "cell_type": "code",
      "metadata": {
        "id": "pkIuRDPLlRyt"
      },
      "source": [
        "# Importação de base de dados com resultados dos experimentos\n",
        "resultados = pd.read_csv(url_resultados)"
      ],
      "execution_count": 29,
      "outputs": []
    },
    {
      "cell_type": "code",
      "metadata": {
        "id": "PXEZzA4olgpJ"
      },
      "source": [
        "#Cria uma series indicando quantos mecanismos foram ativados em cada experimento\n",
        "ativacao_por_experimento = resultados.sum(axis=1, skipna=True)\n",
        "\n",
        "#Cria uma coluna indicando o número de mecanismos ativados por um experimento \n",
        "resultados['mecanismos_ativados'] = ativacao_por_experimento\n",
        "\n",
        "#Cria uma coluna indicando se o experimento em questão ativou algum mecanismo de ação ou não (True or False)\n",
        "resultados['ativo'] = resultados['mecanismos_ativados'] != 0\n",
        "\n",
        "# Merge de dados dos experimentos com os resultados, para isso foram selecionadas da coluna de resultados\n",
        "# apenas os mecanismos ativados e se o determinado experimento foi ativo ou não, merge baseado no id dos experimentos\n",
        "dados_com_resultados = pd.merge(dados, resultados[['id', 'mecanismos_ativados', 'ativo']],on='id')"
      ],
      "execution_count": 30,
      "outputs": []
    },
    {
      "cell_type": "markdown",
      "metadata": {
        "id": "pid2RgfdIjXd"
      },
      "source": [
        "#### 5.2 Configuração do Modelo de Regressão Logística\n"
      ]
    },
    {
      "cell_type": "code",
      "metadata": {
        "id": "tPA7msZK_5vm"
      },
      "source": [
        "# Importação do modelo que será utilizado: Regressão Logística\n",
        "from sklearn.linear_model import LogisticRegression"
      ],
      "execution_count": 31,
      "outputs": []
    },
    {
      "cell_type": "code",
      "metadata": {
        "id": "pyR9_zrEMXMi"
      },
      "source": [
        "# Importação do método responsável por dividir dados de treino e teste \n",
        "from sklearn.model_selection import train_test_split"
      ],
      "execution_count": 32,
      "outputs": []
    },
    {
      "cell_type": "code",
      "metadata": {
        "id": "Ec9Rvh-UUXGM"
      },
      "source": [
        "# Importação do método responsável por calcular acurácia dos modelos\n",
        "from sklearn.metrics import accuracy_score"
      ],
      "execution_count": 33,
      "outputs": []
    },
    {
      "cell_type": "code",
      "metadata": {
        "id": "p0oulw-sIexG"
      },
      "source": [
        "# Instanciação do modelo de regressão que será utilizado\n",
        "modelo_regressao_logistica = LogisticRegression(max_iter=1000)"
      ],
      "execution_count": 34,
      "outputs": []
    },
    {
      "cell_type": "code",
      "metadata": {
        "id": "xL6YdzcvJSZw"
      },
      "source": [
        "# Determinacão das variáveis necessárias para criação do modelo de regressão\n",
        "\n",
        "# Seleção de valores de expressão gênica e viabilidade celular para configuração de entrada (valores da assinatura celular)\n",
        "x = dados_com_resultados.select_dtypes('float64')\n",
        "# Seleção dos valores da coluna ativa para configuração de saída (valores que serão previstos)\n",
        "y = dados_com_resultados['ativo']"
      ],
      "execution_count": 35,
      "outputs": []
    },
    {
      "cell_type": "code",
      "metadata": {
        "id": "28eT6nDVNZLU"
      },
      "source": [
        "# Divisão entre dados de treino e teste para as variáveis x e y\n",
        "x_treino, x_teste, y_treino, y_teste = train_test_split(x, y, test_size=0.2, stratify=y, random_state=404)"
      ],
      "execution_count": 36,
      "outputs": []
    },
    {
      "cell_type": "markdown",
      "metadata": {
        "id": "qzvICgR7QTC-"
      },
      "source": [
        "#### 5.3 Treinamento do Modelo de Regressão Logística e Comparação com Modelo Dummy"
      ]
    },
    {
      "cell_type": "markdown",
      "metadata": {
        "id": "FnIpb2iIQcSX"
      },
      "source": [
        "###### Treinamento Modelo de Regressão Logística"
      ]
    },
    {
      "cell_type": "code",
      "metadata": {
        "colab": {
          "base_uri": "https://localhost:8080/"
        },
        "id": "6fUhDwaCI7eM",
        "outputId": "60882fe1-40ee-42b5-920d-dc5bdbcc8e99"
      },
      "source": [
        "# Treinamento do modelo de regressão, utilizando valores de entrada e saída\n",
        "# A função do modelo é receber os valores da assinatura celular(x) e prever se esta assinatura irá ativar algum mecanismo de ação(y) ou não\n",
        "modelo_regressao_logistica.fit(x_treino, y_treino)"
      ],
      "execution_count": 37,
      "outputs": [
        {
          "output_type": "execute_result",
          "data": {
            "text/plain": [
              "LogisticRegression(C=1.0, class_weight=None, dual=False, fit_intercept=True,\n",
              "                   intercept_scaling=1, l1_ratio=None, max_iter=1000,\n",
              "                   multi_class='auto', n_jobs=None, penalty='l2',\n",
              "                   random_state=None, solver='lbfgs', tol=0.0001, verbose=0,\n",
              "                   warm_start=False)"
            ]
          },
          "metadata": {
            "tags": []
          },
          "execution_count": 37
        }
      ]
    },
    {
      "cell_type": "code",
      "metadata": {
        "id": "vpiZGw4-OoCT"
      },
      "source": [
        "# Previsão do modelo de regressão logística\n",
        "previsao_modelo_regressao_logistica = modelo_regressao_logistica.predict(x_teste)"
      ],
      "execution_count": 38,
      "outputs": []
    },
    {
      "cell_type": "code",
      "metadata": {
        "colab": {
          "base_uri": "https://localhost:8080/"
        },
        "id": "7IZKcWsrVSek",
        "outputId": "ed467f71-08a1-4d02-9a6c-bfc3a9442800"
      },
      "source": [
        "# Calculo de acurácia do modelo de regressão logística\n",
        "accuracy_score(y_teste, previsao_modelo_regressao_logistica)"
      ],
      "execution_count": 39,
      "outputs": [
        {
          "output_type": "execute_result",
          "data": {
            "text/plain": [
              "0.6304849884526559"
            ]
          },
          "metadata": {
            "tags": []
          },
          "execution_count": 39
        }
      ]
    },
    {
      "cell_type": "markdown",
      "metadata": {
        "id": "xwoLWFTImP9d"
      },
      "source": [
        "**Conclusão:** o modelo de regressão logística apresentou uma acurácia de 63%, este valor deverá ser comparado com outros modelos para verificar sua eficácia real."
      ]
    },
    {
      "cell_type": "markdown",
      "metadata": {
        "id": "cg9KkO7tQgjC"
      },
      "source": [
        "######Treinamento Modelo Dummy"
      ]
    },
    {
      "cell_type": "code",
      "metadata": {
        "id": "YrKB5UPCJNzc"
      },
      "source": [
        "# Importação do modelo dummy\n",
        "from sklearn.dummy import DummyClassifier"
      ],
      "execution_count": 40,
      "outputs": []
    },
    {
      "cell_type": "code",
      "metadata": {
        "id": "1TXRUSspRKp5"
      },
      "source": [
        "# Instanciação do modelo dummy que será utilizado, o qual irá predizer baseado na classificação mais frequente\n",
        "modelo_dummy = DummyClassifier(strategy='most_frequent')"
      ],
      "execution_count": 41,
      "outputs": []
    },
    {
      "cell_type": "code",
      "metadata": {
        "colab": {
          "base_uri": "https://localhost:8080/"
        },
        "id": "ypX4ztc6RB-p",
        "outputId": "6f37d975-8f43-4ff9-98e1-d1fdfc3fc891"
      },
      "source": [
        "# Treinamento do modelo dummy\n",
        "modelo_dummy.fit(x_treino, y_treino)"
      ],
      "execution_count": 42,
      "outputs": [
        {
          "output_type": "execute_result",
          "data": {
            "text/plain": [
              "DummyClassifier(constant=None, random_state=None, strategy='most_frequent')"
            ]
          },
          "metadata": {
            "tags": []
          },
          "execution_count": 42
        }
      ]
    },
    {
      "cell_type": "code",
      "metadata": {
        "id": "xWhRkoXkU-qt"
      },
      "source": [
        "# Previsão do modelo dummy\n",
        "previsao_dummy = modelo_dummy.predict(x_teste)"
      ],
      "execution_count": 43,
      "outputs": []
    },
    {
      "cell_type": "code",
      "metadata": {
        "colab": {
          "base_uri": "https://localhost:8080/"
        },
        "id": "ImyFPhIUTMVO",
        "outputId": "915c0f70-8519-4970-f9f2-cc5b45747459"
      },
      "source": [
        "# Calculo de acurácia do modelo dummy\n",
        "accuracy_score(y_teste, previsao_dummy)"
      ],
      "execution_count": 44,
      "outputs": [
        {
          "output_type": "execute_result",
          "data": {
            "text/plain": [
              "0.6067604450976275"
            ]
          },
          "metadata": {
            "tags": []
          },
          "execution_count": 44
        }
      ]
    },
    {
      "cell_type": "markdown",
      "metadata": {
        "id": "FVNG2qZpTYme"
      },
      "source": [
        "**Resultados:**\n",
        "* O modelo de regressão logística proposto acertou se o mecanismo de ação foi ativado ou não **63.04%** das vezes \n",
        "* O modelo *dummy*, baseado em prever o dado mais frequente para todos os casos, acertou **60.67%** das vezes\n",
        "\n",
        "**Conclusão:** O modelo de regressão logística não é útil para o caso observado, pois a diferença entre este e um modelo ingênuo, baseado na escolha dos resultados mais frequentes, foi de apenas **2.36%**"
      ]
    },
    {
      "cell_type": "markdown",
      "metadata": {
        "id": "VmidAyQSdzXR"
      },
      "source": [
        "####5.4 Configuração do Modelo de Árvore de Decisão"
      ]
    },
    {
      "cell_type": "code",
      "metadata": {
        "id": "IWK2inD4d5pR"
      },
      "source": [
        "# Importação de modelo de árvore de decisão\n",
        "from sklearn.tree import DecisionTreeClassifier"
      ],
      "execution_count": 45,
      "outputs": []
    },
    {
      "cell_type": "code",
      "metadata": {
        "id": "HPJ8LiRieHvy"
      },
      "source": [
        "# Instanciação do modelo de árvore de decisão\n",
        "modelo_arvore_decisao = DecisionTreeClassifier(max_depth=1)"
      ],
      "execution_count": 46,
      "outputs": []
    },
    {
      "cell_type": "code",
      "metadata": {
        "id": "uzE-Jw_ne2Mt",
        "colab": {
          "base_uri": "https://localhost:8080/"
        },
        "outputId": "8f16fe61-720f-448d-bb39-1b40ed3b2771"
      },
      "source": [
        "# Treinamento do modelo de árvore de decisão\n",
        "modelo_arvore_decisao.fit(x_treino, y_treino)"
      ],
      "execution_count": 47,
      "outputs": [
        {
          "output_type": "execute_result",
          "data": {
            "text/plain": [
              "DecisionTreeClassifier(ccp_alpha=0.0, class_weight=None, criterion='gini',\n",
              "                       max_depth=1, max_features=None, max_leaf_nodes=None,\n",
              "                       min_impurity_decrease=0.0, min_impurity_split=None,\n",
              "                       min_samples_leaf=1, min_samples_split=2,\n",
              "                       min_weight_fraction_leaf=0.0, presort='deprecated',\n",
              "                       random_state=None, splitter='best')"
            ]
          },
          "metadata": {
            "tags": []
          },
          "execution_count": 47
        }
      ]
    },
    {
      "cell_type": "code",
      "metadata": {
        "id": "EeqhVGWhe7sZ"
      },
      "source": [
        "# Previsão do modelo de árvore de decisão\n",
        "previsao_arvore_decisao = modelo_arvore_decisao.predict(x_teste)"
      ],
      "execution_count": 48,
      "outputs": []
    },
    {
      "cell_type": "code",
      "metadata": {
        "colab": {
          "base_uri": "https://localhost:8080/"
        },
        "id": "IJB2kYYcfJla",
        "outputId": "7ef3b33c-2a6e-4523-f973-02a165e174bf"
      },
      "source": [
        "# Cálculo de acurácia do modelo de árvore de decisão\n",
        "accuracy_score(y_teste, previsao_arvore_decisao)"
      ],
      "execution_count": 49,
      "outputs": [
        {
          "output_type": "execute_result",
          "data": {
            "text/plain": [
              "0.6067604450976275"
            ]
          },
          "metadata": {
            "tags": []
          },
          "execution_count": 49
        }
      ]
    },
    {
      "cell_type": "markdown",
      "metadata": {
        "id": "MO5X1wJhmuJz"
      },
      "source": [
        "**Conclusão:** o modelo de arvore de decisão apresentou uma acurácia de 60.67%, que também não é o suficiente para o problema tratado."
      ]
    },
    {
      "cell_type": "markdown",
      "metadata": {
        "id": "Cp6_7BKUGsKD"
      },
      "source": [
        "#### 5.5 O Problema do OverFit"
      ]
    },
    {
      "cell_type": "code",
      "metadata": {
        "id": "lVALvcGHGpL6"
      },
      "source": [
        "# Testando os valores diferentes de acurácia por níveis de árvore de decisão, para dados de treino e dados de teste\n",
        "# Instanciação de listas que vão guardar os scores da acurácia com os dados de treino e teste\n",
        "treino = []\n",
        "teste = []\n",
        "for i in range(1,15):\n",
        "    modelo_arvore_decisao = DecisionTreeClassifier(max_depth=i)\n",
        "    modelo_arvore_decisao.fit(x_treino,y_treino)\n",
        "    teste.append(modelo_arvore_decisao.score(x_teste, y_teste))\n",
        "    treino.append(modelo_arvore_decisao.score(x_treino, y_treino))"
      ],
      "execution_count": 50,
      "outputs": []
    },
    {
      "cell_type": "code",
      "metadata": {
        "id": "ofZISiNZfMij"
      },
      "source": [
        "# Análise gráfica simples do comportamento do score de teste e treino, de profundidade 1 a profundidade 15"
      ],
      "execution_count": 51,
      "outputs": []
    },
    {
      "cell_type": "code",
      "metadata": {
        "colab": {
          "base_uri": "https://localhost:8080/",
          "height": 285
        },
        "id": "9dLqoHeaJjRg",
        "outputId": "47c4baca-8448-4983-b734-08c928c8310c"
      },
      "source": [
        "sns.lineplot(x=range(1,15), y=teste, label='teste')\n",
        "sns.lineplot(x=range(1,15), y=treino, label='treino')"
      ],
      "execution_count": 52,
      "outputs": [
        {
          "output_type": "execute_result",
          "data": {
            "text/plain": [
              "<matplotlib.axes._subplots.AxesSubplot at 0x7f41b3b18890>"
            ]
          },
          "metadata": {
            "tags": []
          },
          "execution_count": 52
        },
        {
          "output_type": "display_data",
          "data": {
            "image/png": "[encoded data removed]",
            "text/plain": [
              "<Figure size 432x288 with 1 Axes>"
            ]
          },
          "metadata": {
            "tags": []
          }
        }
      ]
    },
    {
      "cell_type": "markdown",
      "metadata": {
        "id": "4MtASz7RKL0-"
      },
      "source": [
        "**Conclusão:** neste processo, ao aumentar a profundidade da arvore de decisão, ocorreu o que é chamado de overfit, a árvore de decisão com mais profundidade acertou frequentemente o dado de treino, porém ao ser mostrado novos dados, os de teste, a performance caiu consideravelmente."
      ]
    },
    {
      "cell_type": "markdown",
      "metadata": {
        "id": "1ReIbUKXLZIB"
      },
      "source": [
        "#### 5.6 Configuração do Modelo Random Forest"
      ]
    },
    {
      "cell_type": "code",
      "metadata": {
        "id": "Gfn61AcrLevN"
      },
      "source": [
        "# Importação da biblioteca responsável pelo modelo Random Forest\n",
        "from sklearn.ensemble import RandomForestClassifier"
      ],
      "execution_count": 53,
      "outputs": []
    },
    {
      "cell_type": "code",
      "metadata": {
        "id": "3EXrPTafLuL9"
      },
      "source": [
        "# Seleção de valores de expressão gênica, viabilidade celular, tempo, dose e composto \n",
        "# para configuração de entrada (valores da assinatura celular)\n",
        "\n",
        "x = dados_com_resultados.drop(['id', 'mecanismos_ativados', 'ativo', 'composto'], axis=1)\n",
        "\n",
        "# Transformação de colunas tratamento, dose e tempo em colunas categóricas numeradas\n",
        "x = pd.get_dummies(x, columns=['tratamento', 'dose', 'tempo'])\n"
      ],
      "execution_count": 54,
      "outputs": []
    },
    {
      "cell_type": "code",
      "metadata": {
        "id": "yMeAm--fOISX"
      },
      "source": [
        "# Seleção dos valores da coluna ativa para configuração de saída (valores que serão previstos)\n",
        "y = dados_com_resultados['ativo']"
      ],
      "execution_count": 55,
      "outputs": []
    },
    {
      "cell_type": "code",
      "metadata": {
        "id": "Ga-LMPqRONR6"
      },
      "source": [
        "# Divisão entre dados de treino e teste\n",
        "x_treino, x_teste, y_treino, y_teste = train_test_split(x, y, test_size=0.2, stratify=y, random_state=404)"
      ],
      "execution_count": 56,
      "outputs": []
    },
    {
      "cell_type": "code",
      "metadata": {
        "id": "4cG7RuzpMfIc"
      },
      "source": [
        "# Instanciação do modelo random forest\n",
        "modelo_random_forest = RandomForestClassifier()"
      ],
      "execution_count": 57,
      "outputs": []
    },
    {
      "cell_type": "code",
      "metadata": {
        "colab": {
          "base_uri": "https://localhost:8080/"
        },
        "id": "Dsr_hyjINno0",
        "outputId": "7cf612d8-07e2-4d9b-ac74-0ca608de053f"
      },
      "source": [
        "# Treinamento do modelo random forest\n",
        "modelo_random_forest.fit(x_treino, y_treino)"
      ],
      "execution_count": 58,
      "outputs": [
        {
          "output_type": "execute_result",
          "data": {
            "text/plain": [
              "RandomForestClassifier(bootstrap=True, ccp_alpha=0.0, class_weight=None,\n",
              "                       criterion='gini', max_depth=None, max_features='auto',\n",
              "                       max_leaf_nodes=None, max_samples=None,\n",
              "                       min_impurity_decrease=0.0, min_impurity_split=None,\n",
              "                       min_samples_leaf=1, min_samples_split=2,\n",
              "                       min_weight_fraction_leaf=0.0, n_estimators=100,\n",
              "                       n_jobs=None, oob_score=False, random_state=None,\n",
              "                       verbose=0, warm_start=False)"
            ]
          },
          "metadata": {
            "tags": []
          },
          "execution_count": 58
        }
      ]
    },
    {
      "cell_type": "code",
      "metadata": {
        "id": "c1R6l_JHNv9C"
      },
      "source": [
        "# Previsão do modelo random forest\n",
        "previsao_random_forest = modelo_random_forest.predict(x_teste)"
      ],
      "execution_count": 59,
      "outputs": []
    },
    {
      "cell_type": "code",
      "metadata": {
        "colab": {
          "base_uri": "https://localhost:8080/"
        },
        "id": "XFVoMt9ZN6b2",
        "outputId": "6cc7c44e-af18-4ff1-ddb4-b3aa33e6ce92"
      },
      "source": [
        "# Cálculo de acurácia do modelo random forest\n",
        "accuracy_score(y_teste, previsao_random_forest)"
      ],
      "execution_count": 60,
      "outputs": [
        {
          "output_type": "execute_result",
          "data": {
            "text/plain": [
              "0.6878018055847155"
            ]
          },
          "metadata": {
            "tags": []
          },
          "execution_count": 60
        }
      ]
    },
    {
      "cell_type": "markdown",
      "metadata": {
        "id": "s0OhUWxqnlLi"
      },
      "source": [
        "**Conclusão:** dentre os modelos estudados até agora o random forest foi o que apresentou melhor desempenho: 68.78%, porém esta porcentagem de acerto ainda não é o suficiente para o problema apresentado, outros modelos devem ser testados."
      ]
    }
  ]
}