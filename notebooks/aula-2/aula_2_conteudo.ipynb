{
  "nbformat": 4,
  "nbformat_minor": 0,
  "metadata": {
    "colab": {
      "name": "aula-2-conteudo.ipynb",
      "provenance": [],
      "collapsed_sections": [
        "NphQ9rs4fbII",
        "AInWInOJf5Nx",
        "5bEIA_AwffLP"
      ],
      "authorship_tag": "ABX9TyNQlFoI46pP4kCxpwxKjXBn",
      "include_colab_link": true
    },
    "kernelspec": {
      "name": "python3",
      "display_name": "Python 3"
    },
    "language_info": {
      "name": "python"
    }
  },
  "cells": [
    {
      "cell_type": "markdown",
      "metadata": {
        "id": "view-in-github",
        "colab_type": "text"
      },
      "source": [
        "<a href=\"https://colab.research.google.com/github/caiogomide/imersao-dados-2021/blob/main/notebooks/aula-2/aula_2_conteudo.ipynb\" target=\"_parent\"><img src=\"https://colab.research.google.com/assets/colab-badge.svg\" alt=\"Open In Colab\"/></a>"
      ]
    },
    {
      "cell_type": "markdown",
      "metadata": {
        "id": "uwWAfRAscaS0"
      },
      "source": [
        "#**2. Aula 02 - Estatísticas, visualização de dados e distribuições**"
      ]
    },
    {
      "cell_type": "markdown",
      "metadata": {
        "id": "NphQ9rs4fbII"
      },
      "source": [
        "#### 2.1 Importação de Biblioteca e Base de Dados"
      ]
    },
    {
      "cell_type": "code",
      "metadata": {
        "id": "487zaW3qccT3"
      },
      "source": [
        "import pandas as pd\n",
        "import matplotlib.pyplot as plt\n",
        "import numpy as np\n",
        "import seaborn as sns\n",
        "import matplotlib.pyplot as plt"
      ],
      "execution_count": 4,
      "outputs": []
    },
    {
      "cell_type": "code",
      "metadata": {
        "id": "zTmnjrJ7xk1N"
      },
      "source": [
        "#Configuração do seaborn\n",
        "sns.set()"
      ],
      "execution_count": 5,
      "outputs": []
    },
    {
      "cell_type": "code",
      "metadata": {
        "id": "HfhIoyQtxnnQ"
      },
      "source": [
        "url_dados = 'https://github.com/alura-cursos/imersaodados3/blob/main/dados/dados_experimentos.zip?raw=true'"
      ],
      "execution_count": 7,
      "outputs": []
    },
    {
      "cell_type": "code",
      "metadata": {
        "id": "hNEv2G6jxpdu"
      },
      "source": [
        "dados = pd.read_csv(url_dados, compression='zip')"
      ],
      "execution_count": 8,
      "outputs": []
    },
    {
      "cell_type": "markdown",
      "metadata": {
        "id": "AInWInOJf5Nx"
      },
      "source": [
        "#### 2.2 Renomeando Coluna Droga\n",
        "*Foi decidido que um melhor nome para a coluna droga seria composto, pois nesta etapa de experimentação não está sendo testadas drogas completas, e sim compostos que serão utilizados no futuro para sintetização de novas drogas.*"
      ]
    },
    {
      "cell_type": "code",
      "metadata": {
        "id": "jQA7ZvHQf9Ae"
      },
      "source": [
        "dados.rename(columns={'droga':'composto'}, inplace=True)"
      ],
      "execution_count": 9,
      "outputs": []
    },
    {
      "cell_type": "markdown",
      "metadata": {
        "id": "5bEIA_AwffLP"
      },
      "source": [
        "#### 2.3 Countplot"
      ]
    },
    {
      "cell_type": "code",
      "metadata": {
        "id": "3ZRSRE9WhAMg"
      },
      "source": [
        "#Obtenção dos 5 compostos mais frequentes nos experimentos analisados\n",
        "compostos_mais_frequentes = dados['composto'].value_counts()[:5].index\n",
        "#Criação de um dataframe que possui apenas os 5 compostos mais frequentes\n",
        "df_compostos_frequentes = dados.query('composto in @compostos_mais_frequentes')"
      ],
      "execution_count": null,
      "outputs": []
    },
    {
      "cell_type": "code",
      "metadata": {
        "colab": {
          "base_uri": "https://localhost:8080/",
          "height": 539
        },
        "id": "M2FtxzbXfi8B",
        "outputId": "a7cdda42-8644-43d6-9ab3-b18357d4c44f"
      },
      "source": [
        "plt.figure(figsize=(10, 8))\n",
        "#Criação de gráfico de distribuição de frequências para a variável composto\n",
        "grafico_compostos_frequentes = sns.countplot(data=df_compostos_frequentes, x='composto', order=compostos_mais_frequentes)\n",
        "#Configuração de titulo para o gráfico\n",
        "grafico_compostos_frequentes.set_title('Compostos Mais Experimentados', fontsize=18)\n",
        "#Configuração de legenda para o eixo x do gráfico\n",
        "grafico_compostos_frequentes.set_xlabel('Composto')\n",
        "#Configuração de legenda para o eixo y do gráfico\n",
        "grafico_compostos_frequentes.set_ylabel('Quantidade de Experimentos')"
      ],
      "execution_count": null,
      "outputs": [
        {
          "output_type": "execute_result",
          "data": {
            "text/plain": [
              "Text(0, 0.5, 'Quantidade de Experimentos')"
            ]
          },
          "metadata": {
            "tags": []
          },
          "execution_count": 29
        },
        {
          "output_type": "display_data",
          "data": {
            "image/png": "[encoded data removed]",
            "text/plain": [
              "<Figure size 720x576 with 1 Axes>"
            ]
          },
          "metadata": {
            "tags": []
          }
        }
      ]
    },
    {
      "cell_type": "markdown",
      "metadata": {
        "id": "BqfUcJupzRvf"
      },
      "source": [
        "**Conclusão:** O composto *cacb2b860* apresenta uma frequência desproporcional aos outros compostos, a razão para isto deverá ser estudada."
      ]
    },
    {
      "cell_type": "markdown",
      "metadata": {
        "id": "nXIyIyGu1k1U"
      },
      "source": [
        "#### 2.4 Análise da expressão gênica g0"
      ]
    },
    {
      "cell_type": "code",
      "metadata": {
        "id": "yUV1hroPz40Q"
      },
      "source": [
        "#Renomeação das colunas de expressões gênicas e viabilidade celular, retirando os hifens\n",
        "dados.columns = dados.columns.str.replace('-','')"
      ],
      "execution_count": 17,
      "outputs": []
    },
    {
      "cell_type": "code",
      "metadata": {
        "id": "vo2TzATmrgaV"
      },
      "source": [
        "#Cálculo limites minimos e máximos da expressão gênica g0\n",
        "limite_minimo_g_zero = dados['g0'].min()\n",
        "limite_maximo_g_zero = dados['g0'].max()"
      ],
      "execution_count": 18,
      "outputs": []
    },
    {
      "cell_type": "markdown",
      "metadata": {
        "id": "I00i46bXr1IY"
      },
      "source": [
        "**Conclusão:** A expressão gênica do gene 0 após um experimento varia de  **-5.513** até **10.0**"
      ]
    },
    {
      "cell_type": "code",
      "metadata": {
        "colab": {
          "base_uri": "https://localhost:8080/",
          "height": 268
        },
        "id": "z7JQO_nkrsfC",
        "outputId": "8be46c42-f9be-439a-8744-eaab29c243bf"
      },
      "source": [
        "#Criação de histograma da váriavel g0\n",
        "g_zero = dados['g0'].hist(bins=50)"
      ],
      "execution_count": 13,
      "outputs": [
        {
          "output_type": "display_data",
          "data": {
            "image/png": "[encoded data removed]",
            "text/plain": [
              "<Figure size 432x288 with 1 Axes>"
            ]
          },
          "metadata": {
            "tags": []
          }
        }
      ]
    },
    {
      "cell_type": "markdown",
      "metadata": {
        "id": "8jrdFI0g2HuE"
      },
      "source": [
        "**Conclusão:** As variações das expressões gênicas do gene 0 se comportam como uma curva assimétrica a direita, a maior parte das variações se concentram entre -0.5 e +0.5"
      ]
    },
    {
      "cell_type": "markdown",
      "metadata": {
        "id": "BItvdS_-rYcb"
      },
      "source": [
        "#### 2.5 Plotagem de Dados Quantitativos Contínuos"
      ]
    },
    {
      "cell_type": "markdown",
      "metadata": {
        "id": "6MqU9GwV4F6i"
      },
      "source": [
        "##### 2.5.1 Expressões Genicas"
      ]
    },
    {
      "cell_type": "code",
      "metadata": {
        "id": "z703n13Ty4Yk"
      },
      "source": [
        "#Coleta de todos dados das expressões gênicas\n",
        "dados_expressoes_genicas = dados.loc[:,'g0':'g771']"
      ],
      "execution_count": 29,
      "outputs": []
    },
    {
      "cell_type": "code",
      "metadata": {
        "id": "ixrCPdzW0aR0"
      },
      "source": [
        "#Coleta de medidas de tendência central para as expressões gênicas\n",
        "info_expressoes_genicas = dados_expressoes_genicas.describe().transpose()"
      ],
      "execution_count": 30,
      "outputs": []
    },
    {
      "cell_type": "code",
      "metadata": {
        "id": "NolZoBEc1XgK",
        "colab": {
          "base_uri": "https://localhost:8080/",
          "height": 285
        },
        "outputId": "8d26683d-13ac-4061-d2d0-d0088b7e9fdb"
      },
      "source": [
        "#Criação de histograma com as médias de variação de todas expressões gênicas\n",
        "distribuicao_medias_expressoes_genicas = info_expressoes_genicas['mean'].hist(bins = 30)\n",
        "distribuicao_medias_expressoes_genicas"
      ],
      "execution_count": 38,
      "outputs": [
        {
          "output_type": "execute_result",
          "data": {
            "text/plain": [
              "<matplotlib.axes._subplots.AxesSubplot at 0x7fede6a0ed50>"
            ]
          },
          "metadata": {
            "tags": []
          },
          "execution_count": 38
        },
        {
          "output_type": "display_data",
          "data": {
            "image/png": "[encoded data removed]",
            "text/plain": [
              "<Figure size 432x288 with 1 Axes>"
            ]
          },
          "metadata": {
            "tags": []
          }
        }
      ]
    },
    {
      "cell_type": "markdown",
      "metadata": {
        "id": "uQFibXqw6zEK"
      },
      "source": [
        "**Conclusão:** A variação média das expressões gênicas dos experimentos se concentram entre -0.2 e 0.2, experimentos que variaram mais estas expressões, como 0.5, 0.6 e 0.8, deverão ser analisados com mais cuidado."
      ]
    },
    {
      "cell_type": "markdown",
      "metadata": {
        "id": "5Xb9TvKz4MmK"
      },
      "source": [
        "##### 2.5.2 Viabilidade Celular"
      ]
    },
    {
      "cell_type": "code",
      "metadata": {
        "id": "h4o50BoG2L0T"
      },
      "source": [
        "#Coleta de todos dados de viabilidade celular\n",
        "dados_viabilidade_celular = dados.loc[:,'c0':'c99']"
      ],
      "execution_count": 35,
      "outputs": []
    },
    {
      "cell_type": "code",
      "metadata": {
        "id": "8vBSyg5c4ymr"
      },
      "source": [
        "#Coleta de medidas de tendência central para as viabilidades celulares\n",
        "info_viabilidade_celular = dados_viabilidade_celular.describe().transpose()"
      ],
      "execution_count": 36,
      "outputs": []
    },
    {
      "cell_type": "code",
      "metadata": {
        "colab": {
          "base_uri": "https://localhost:8080/",
          "height": 285
        },
        "id": "BJlFbh9C5BW0",
        "outputId": "34fdd3ce-e108-4d42-9442-194965f75319"
      },
      "source": [
        "#Criação de histograma com as médias de variação de todas viabilidades celulares\n",
        "distribuicao_medias_viabilidade_celular = info_viabilidade_celular['mean'].hist(bins=30)\n",
        "distribuicao_medias_viabilidade_celular"
      ],
      "execution_count": 37,
      "outputs": [
        {
          "output_type": "execute_result",
          "data": {
            "text/plain": [
              "<matplotlib.axes._subplots.AxesSubplot at 0x7fede720fc90>"
            ]
          },
          "metadata": {
            "tags": []
          },
          "execution_count": 37
        },
        {
          "output_type": "display_data",
          "data": {
            "image/png": "[encoded data removed]",
            "text/plain": [
              "<Figure size 432x288 with 1 Axes>"
            ]
          },
          "metadata": {
            "tags": []
          }
        }
      ]
    },
    {
      "cell_type": "markdown",
      "metadata": {
        "id": "xpioyi-35WG_"
      },
      "source": [
        "**Conclusão:** A maioria da concentração da variabilidade da viabilidade celular esta concentrada entre -0.6 e -0.2, este valor é esperado pois os compostos idealmente não devem alterar esta propriedade da célula."
      ]
    },
    {
      "cell_type": "code",
      "metadata": {
        "id": "Ry-W4HuTFk9B",
        "colab": {
          "base_uri": "https://localhost:8080/",
          "height": 520
        },
        "outputId": "f6ed0bb9-693d-4357-e5c5-05fddbdba7b5"
      },
      "source": [
        "plt.figure(figsize=(10,8))\n",
        "#Criação de boxplot de distribuição da variação da expressão gênica do g0 para experimentos com droga e experimentos com controle\n",
        "sns.boxplot(data=dados, x='tratamento', y='g0', orient='vertical', linewidth='2')"
      ],
      "execution_count": null,
      "outputs": [
        {
          "output_type": "execute_result",
          "data": {
            "text/plain": [
              "<matplotlib.axes._subplots.AxesSubplot at 0x7fa19e5b0610>"
            ]
          },
          "metadata": {
            "tags": []
          },
          "execution_count": 37
        },
        {
          "output_type": "display_data",
          "data": {
            "image/png": "[encoded data removed]",
            "text/plain": [
              "<Figure size 720x576 with 1 Axes>"
            ]
          },
          "metadata": {
            "tags": []
          }
        }
      ]
    },
    {
      "cell_type": "markdown",
      "metadata": {
        "id": "FUL69daj6A1G"
      },
      "source": [
        "**Conclusão:** Idealmente os experimentos com controle não deveriam alterar a expressão gênica de nenhum gene, os outliers em questão deverão ser estudados com cuidado.Também é possível observar que há uma quantidade razoável de drogas que fizeram efeitos no g0, estas drogas, que são os outliers em questão, deverão ser estudadas em próximas etapas para analisar quais foram os efeitos no experimento."
      ]
    },
    {
      "cell_type": "code",
      "metadata": {
        "id": "pWlaSfY_6jVR"
      },
      "source": [
        ""
      ],
      "execution_count": null,
      "outputs": []
    }
  ]
}